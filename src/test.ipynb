{
 "cells": [
  {
   "cell_type": "code",
   "execution_count": 5,
   "metadata": {},
   "outputs": [
    {
     "name": "stderr",
     "output_type": "stream",
     "text": [
      "Building prefix dict from the default dictionary ...\n",
      "Dumping model to file cache /var/folders/kr/_4lslj556y9grk26d1q6s7940000gn/T/jieba.cache\n",
      "Loading model cost 0.215 seconds.\n",
      "Prefix dict has been built successfully.\n"
     ]
    },
    {
     "name": "stdout",
     "output_type": "stream",
     "text": [
      "Word segmentation module jieba initialized.\n",
      "\n"
     ]
    }
   ],
   "source": [
    "from f5_tts.api import F5TTS"
   ]
  },
  {
   "cell_type": "code",
   "execution_count": 8,
   "metadata": {},
   "outputs": [
    {
     "name": "stdout",
     "output_type": "stream",
     "text": [
      "Download Vocos from huggingface charactr/vocos-mel-24khz\n",
      "\n",
      "vocab :  /Users/mumulife/Code/tools/F5-TTS/src/f5_tts/infer/examples/vocab.txt\n",
      "token :  custom\n",
      "model :  ../ckpts/mumu_last_reduced2.pt \n",
      "\n"
     ]
    }
   ],
   "source": [
    "f5tts = F5TTS(\n",
    "    ckpt_file=\"../ckpts/mumu_last_reduced2.pt\",\n",
    "    device=\"mps\",\n",
    ")"
   ]
  },
  {
   "cell_type": "code",
   "execution_count": null,
   "metadata": {},
   "outputs": [
    {
     "name": "stdout",
     "output_type": "stream",
     "text": [
      "Converting audio...\n",
      "Using custom reference text...\n",
      "\n",
      "ref_text   当在观看的疼痛达到最难忍受的高峰时，若能熬得过，例如再忍五分钟，你将发现这椎心刺骨、威胁生命的疼痛开始消退。\n",
      "gen_text 0 你好, 我是妈妈\n",
      "\n",
      "\n",
      "Generating audio in 1 batches...\n"
     ]
    },
    {
     "name": "stderr",
     "output_type": "stream",
     "text": [
      "100%|██████████| 1/1 [00:12<00:00, 12.32s/it]\n"
     ]
    }
   ],
   "source": [
    "from importlib.resources import files\n",
    "\n",
    "wav, sr, spect = f5tts.infer(\n",
    "    ref_file=str(files(\"f5_tts\").joinpath(\"infer/examples/mumu/demo.wav\")),\n",
    "    ref_text=\"当在观看的疼痛达到最难忍受的高峰时，若能熬得过，例如再忍五分钟，你将发现这椎心刺骨、威胁生命的疼痛开始消退。\",\n",
    "    gen_text=\"你好, 我是妈妈\",\n",
    "    file_wave=\"api_out.wav\",\n",
    "    file_spect=\"api_out.png\",\n",
    "    seed=-1,\n",
    ")"
   ]
  },
  {
   "cell_type": "code",
   "execution_count": 24,
   "metadata": {},
   "outputs": [
    {
     "data": {
      "text/plain": [
       "array([ 4.2861537e-09,  1.2730436e-09,  2.6345881e-09, ...,\n",
       "       -5.7758292e-04,  3.7220684e-03,  7.0756460e-03], dtype=float32)"
      ]
     },
     "execution_count": 24,
     "metadata": {},
     "output_type": "execute_result"
    }
   ],
   "source": [
    "wav"
   ]
  },
  {
   "cell_type": "code",
   "execution_count": null,
   "metadata": {},
   "outputs": [],
   "source": []
  }
 ],
 "metadata": {
  "kernelspec": {
   "display_name": "tts",
   "language": "python",
   "name": "python3"
  },
  "language_info": {
   "codemirror_mode": {
    "name": "ipython",
    "version": 3
   },
   "file_extension": ".py",
   "mimetype": "text/x-python",
   "name": "python",
   "nbconvert_exporter": "python",
   "pygments_lexer": "ipython3",
   "version": "3.12.8"
  }
 },
 "nbformat": 4,
 "nbformat_minor": 2
}
